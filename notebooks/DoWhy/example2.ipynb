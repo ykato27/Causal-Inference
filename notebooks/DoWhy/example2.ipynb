{
 "cells": [
  {
   "cell_type": "markdown",
   "metadata": {
    "colab_type": "text",
    "id": "w5dcWQQr8_hT"
   },
   "source": [
    "# DoWhy: Different estimation methods for causal inference\n",
    "This is quick introduction to DoWhy causal inference library. We will load in a sample dataset and use different methods for estimating causal effect from a (pre-specified) treatment variable to a (pre-specified) outcome variable."
   ]
  },
  {
   "cell_type": "code",
   "execution_count": 1,
   "metadata": {
    "colab": {},
    "colab_type": "code",
    "id": "d11GdS8T8yi2"
   },
   "outputs": [],
   "source": [
    "%load_ext lab_black"
   ]
  },
  {
   "cell_type": "code",
   "execution_count": 2,
   "metadata": {
    "colab": {},
    "colab_type": "code",
    "id": "nYvJ97bN80QM"
   },
   "outputs": [],
   "source": [
    "import numpy as np\n",
    "import pandas as pd\n",
    "import logging\n",
    "\n",
    "import dowhy\n",
    "from dowhy import CausalModel\n",
    "import dowhy.datasets"
   ]
  },
  {
   "cell_type": "markdown",
   "metadata": {
    "colab_type": "text",
    "id": "lfZca6uT80i7"
   },
   "source": [
    "Let us first load a dataset. For simplicity, we simulate a dataset with linear relationships between common causes and treatment, and common causes and outcome.\n",
    "\n",
    "Beta is the true causal effect."
   ]
  },
  {
   "cell_type": "code",
   "execution_count": 3,
   "metadata": {
    "colab": {},
    "colab_type": "code",
    "id": "zpFAOH4d9HU7"
   },
   "outputs": [],
   "source": [
    "data = dowhy.datasets.linear_dataset(\n",
    "    beta=10,\n",
    "    num_common_causes=5,\n",
    "    num_instruments=2,\n",
    "    num_samples=10000,\n",
    "    treatment_is_binary=True,\n",
    ")\n",
    "df = data[\"df\"]"
   ]
  },
  {
   "cell_type": "code",
   "execution_count": 4,
   "metadata": {
    "colab": {},
    "colab_type": "code",
    "id": "ts8JlCbANHkb"
   },
   "outputs": [
    {
     "data": {
      "text/plain": [
       "{'df':        Z0        Z1        W0        W1        W2        W3        W4     v0  \\\n",
       " 0     1.0  0.205682 -0.556930  0.762743 -1.606946 -0.849534  2.350194   True   \n",
       " 1     1.0  0.010341 -0.195173  1.285667 -1.979434  0.767274 -0.276447   True   \n",
       " 2     1.0  0.200250 -1.318805  2.971130 -1.052902  0.422803  1.789567   True   \n",
       " 3     0.0  0.418788  0.180307  0.207546 -0.272433 -1.930190 -0.132841  False   \n",
       " 4     1.0  0.333549  0.762243  0.396756 -0.023027  0.976170  1.982673   True   \n",
       " ...   ...       ...       ...       ...       ...       ...       ...    ...   \n",
       " 9995  1.0  0.491459  0.396911  0.308947  0.039739 -1.468032  1.252293   True   \n",
       " 9996  0.0  0.945255  0.965977  1.801874 -1.971056  0.380577 -1.189544   True   \n",
       " 9997  0.0  0.620020  1.721118  0.544636 -2.461803 -1.701381  1.641704   True   \n",
       " 9998  1.0  0.024781  1.017494  0.098967 -0.815921  1.459497  0.513642   True   \n",
       " 9999  1.0  0.529987  0.090256  1.039751 -0.306992 -2.127756  0.419934   True   \n",
       " \n",
       "               y  \n",
       " 0     14.669937  \n",
       " 1      9.634043  \n",
       " 2     29.160440  \n",
       " 3     -8.489007  \n",
       " 4     25.678075  \n",
       " ...         ...  \n",
       " 9995  11.901724  \n",
       " 9996   6.706048  \n",
       " 9997   4.535756  \n",
       " 9998  16.087258  \n",
       " 9999   7.054226  \n",
       " \n",
       " [10000 rows x 9 columns],\n",
       " 'treatment_name': ['v0'],\n",
       " 'outcome_name': 'y',\n",
       " 'common_causes_names': ['W0', 'W1', 'W2', 'W3', 'W4'],\n",
       " 'instrument_names': ['Z0', 'Z1'],\n",
       " 'effect_modifier_names': [],\n",
       " 'frontdoor_variables_names': [],\n",
       " 'dot_graph': 'digraph { U[label=\"Unobserved Confounders\"]; U->y;v0->y;U->v0;W0-> v0; W1-> v0; W2-> v0; W3-> v0; W4-> v0;Z0-> v0; Z1-> v0;W0-> y; W1-> y; W2-> y; W3-> y; W4-> y;}',\n",
       " 'gml_graph': 'graph[directed 1node[ id \"y\" label \"y\"]node[ id \"Unobserved Confounders\" label \"Unobserved Confounders\"]edge[source \"Unobserved Confounders\" target \"y\"]node[ id \"W0\" label \"W0\"] node[ id \"W1\" label \"W1\"] node[ id \"W2\" label \"W2\"] node[ id \"W3\" label \"W3\"] node[ id \"W4\" label \"W4\"]node[ id \"Z0\" label \"Z0\"] node[ id \"Z1\" label \"Z1\"]node[ id \"v0\" label \"v0\"]edge[source \"Unobserved Confounders\" target \"v0\"]edge[source \"v0\" target \"y\"]edge[ source \"W0\" target \"v0\"] edge[ source \"W1\" target \"v0\"] edge[ source \"W2\" target \"v0\"] edge[ source \"W3\" target \"v0\"] edge[ source \"W4\" target \"v0\"]edge[ source \"Z0\" target \"v0\"] edge[ source \"Z1\" target \"v0\"]edge[ source \"W0\" target \"y\"] edge[ source \"W1\" target \"y\"] edge[ source \"W2\" target \"y\"] edge[ source \"W3\" target \"y\"] edge[ source \"W4\" target \"y\"]]',\n",
       " 'ate': 9.999976694809341}"
      ]
     },
     "execution_count": 4,
     "metadata": {},
     "output_type": "execute_result"
    }
   ],
   "source": [
    "data"
   ]
  },
  {
   "cell_type": "markdown",
   "metadata": {
    "colab_type": "text",
    "id": "hXXtU4E_9LQs"
   },
   "source": [
    "Note that we are using a pandas dataframe to load the data.\n",
    "\n",
    "## Identifying the causal estimand\n",
    "We now input a causal graph in the DOT graph format."
   ]
  },
  {
   "cell_type": "code",
   "execution_count": 5,
   "metadata": {
    "colab": {},
    "colab_type": "code",
    "id": "7Vcg5dNn9ONM"
   },
   "outputs": [],
   "source": [
    "# With graph\n",
    "model = CausalModel(\n",
    "    data=df,\n",
    "    treatment=data[\"treatment_name\"],\n",
    "    outcome=data[\"outcome_name\"],\n",
    "    graph=data[\"gml_graph\"],\n",
    "    instruments=data[\"instrument_names\"],\n",
    "    logging_level=logging.INFO,\n",
    ")"
   ]
  },
  {
   "cell_type": "code",
   "execution_count": 6,
   "metadata": {
    "colab": {},
    "colab_type": "code",
    "id": "G1rkMa9_9Ptb"
   },
   "outputs": [
    {
     "data": {
      "image/png": "[encoded data removed]",
      "text/plain": [
       "<Figure size 432x288 with 1 Axes>"
      ]
     },
     "metadata": {},
     "output_type": "display_data"
    }
   ],
   "source": [
    "model.view_model()"
   ]
  },
  {
   "cell_type": "markdown",
   "metadata": {
    "colab_type": "text",
    "id": "Gv0xY_Hh9SST"
   },
   "source": [
    "We get a causal graph. Now identification and estimation is done.\n",
    "\n"
   ]
  },
  {
   "cell_type": "code",
   "execution_count": 7,
   "metadata": {
    "colab": {},
    "colab_type": "code",
    "id": "P38prbfv9UGM"
   },
   "outputs": [
    {
     "name": "stdin",
     "output_type": "stream",
     "text": [
      "WARN: Do you want to continue by ignoring any unobserved confounders? (use proceed_when_unidentifiable=True to disable this prompt) [y/n]  y\n"
     ]
    },
    {
     "name": "stdout",
     "output_type": "stream",
     "text": [
      "Estimand type: nonparametric-ate\n",
      "\n",
      "### Estimand : 1\n",
      "Estimand name: backdoor\n",
      "Estimand expression:\n",
      "  d                                 \n",
      "─────(Expectation(y|W2,W4,W0,W3,W1))\n",
      "d[v₀]                               \n",
      "Estimand assumption 1, Unconfoundedness: If U→{v0} and U→y then P(y|v0,W2,W4,W0,W3,W1,U) = P(y|v0,W2,W4,W0,W3,W1)\n",
      "\n",
      "### Estimand : 2\n",
      "Estimand name: iv\n",
      "Estimand expression:\n",
      "Expectation(Derivative(y, [Z1, Z0])*Derivative([v0], [Z1, Z0])**(-1))\n",
      "Estimand assumption 1, As-if-random: If U→→y then ¬(U →→{Z1,Z0})\n",
      "Estimand assumption 2, Exclusion: If we remove {Z1,Z0}→{v0}, then ¬({Z1,Z0}→y)\n",
      "\n",
      "### Estimand : 3\n",
      "Estimand name: frontdoor\n",
      "No such variable found!\n",
      "\n"
     ]
    }
   ],
   "source": [
    "identified_estimand = model.identify_effect()\n",
    "print(identified_estimand)"
   ]
  },
  {
   "cell_type": "markdown",
   "metadata": {
    "colab_type": "text",
    "id": "DCcJmYwU9YI0"
   },
   "source": [
    "### Method 1: Regression\n",
    "Use linear regression."
   ]
  },
  {
   "cell_type": "code",
   "execution_count": 8,
   "metadata": {
    "colab": {},
    "colab_type": "code",
    "id": "N8jmh6a29U0b"
   },
   "outputs": [
    {
     "name": "stdout",
     "output_type": "stream",
     "text": [
      "*** Causal Estimate ***\n",
      "\n",
      "## Identified estimand\n",
      "Estimand type: nonparametric-ate\n",
      "\n",
      "### Estimand : 1\n",
      "Estimand name: backdoor\n",
      "Estimand expression:\n",
      "  d                                 \n",
      "─────(Expectation(y|W2,W4,W0,W3,W1))\n",
      "d[v₀]                               \n",
      "Estimand assumption 1, Unconfoundedness: If U→{v0} and U→y then P(y|v0,W2,W4,W0,W3,W1,U) = P(y|v0,W2,W4,W0,W3,W1)\n",
      "\n",
      "## Realized estimand\n",
      "b: y~v0+W2+W4+W0+W3+W1\n",
      "Target units: ate\n",
      "\n",
      "## Estimate\n",
      "Mean value: 10.000556381226994\n",
      "p-value: [0.]\n",
      "\n",
      "Causal Estimate is 10.000556381226994\n"
     ]
    }
   ],
   "source": [
    "causal_estimate_reg = model.estimate_effect(\n",
    "    identified_estimand,\n",
    "    method_name=\"backdoor.linear_regression\",\n",
    "    test_significance=True,\n",
    ")\n",
    "print(causal_estimate_reg)\n",
    "print(\"Causal Estimate is \" + str(causal_estimate_reg.value))"
   ]
  },
  {
   "cell_type": "markdown",
   "metadata": {
    "colab_type": "text",
    "id": "fHZQABCa9cmT"
   },
   "source": [
    "### Method 2: Stratification\n",
    "We will be using propensity scores to stratify units in the data."
   ]
  },
  {
   "cell_type": "code",
   "execution_count": 9,
   "metadata": {
    "colab": {},
    "colab_type": "code",
    "id": "shllE_Cw9eDO"
   },
   "outputs": [
    {
     "name": "stderr",
     "output_type": "stream",
     "text": [
      "/tmp/Python/python-3.9.6/lib/python3.9/site-packages/sklearn/utils/validation.py:63: DataConversionWarning: A column-vector y was passed when a 1d array was expected. Please change the shape of y to (n_samples, ), for example using ravel().\n",
      "  return f(*args, **kwargs)\n"
     ]
    },
    {
     "name": "stdout",
     "output_type": "stream",
     "text": [
      "*** Causal Estimate ***\n",
      "\n",
      "## Identified estimand\n",
      "Estimand type: nonparametric-ate\n",
      "\n",
      "### Estimand : 1\n",
      "Estimand name: backdoor\n",
      "Estimand expression:\n",
      "  d                                 \n",
      "─────(Expectation(y|W2,W4,W0,W3,W1))\n",
      "d[v₀]                               \n",
      "Estimand assumption 1, Unconfoundedness: If U→{v0} and U→y then P(y|v0,W2,W4,W0,W3,W1,U) = P(y|v0,W2,W4,W0,W3,W1)\n",
      "\n",
      "## Realized estimand\n",
      "b: y~v0+W2+W4+W0+W3+W1\n",
      "Target units: ate\n",
      "\n",
      "## Estimate\n",
      "Mean value: 10.186646462087188\n",
      "\n",
      "Causal Estimate is 10.186646462087188\n"
     ]
    },
    {
     "name": "stderr",
     "output_type": "stream",
     "text": [
      "/tmp/Python/python-3.9.6/lib/python3.9/site-packages/dowhy/causal_estimators/propensity_score_stratification_estimator.py:61: FutureWarning: Index.ravel returning ndarray is deprecated; in a future version this will return a view on self.\n",
      "  weighted_outcomes.columns = [\"_\".join(x) for x in weighted_outcomes.columns.ravel()]\n"
     ]
    }
   ],
   "source": [
    "causal_estimate_strat = model.estimate_effect(\n",
    "    identified_estimand, method_name=\"backdoor.propensity_score_stratification\"\n",
    ")\n",
    "print(causal_estimate_strat)\n",
    "print(\"Causal Estimate is \" + str(causal_estimate_strat.value))"
   ]
  },
  {
   "cell_type": "markdown",
   "metadata": {
    "colab_type": "text",
    "id": "v9gkNV7S_cRx"
   },
   "source": [
    "###Method 3: Matching\n",
    "We will be using propensity scores to match units in the data."
   ]
  },
  {
   "cell_type": "code",
   "execution_count": 10,
   "metadata": {
    "colab": {},
    "colab_type": "code",
    "id": "jHDhr5K1_dzM"
   },
   "outputs": [
    {
     "name": "stderr",
     "output_type": "stream",
     "text": [
      "/tmp/Python/python-3.9.6/lib/python3.9/site-packages/sklearn/utils/validation.py:63: DataConversionWarning: A column-vector y was passed when a 1d array was expected. Please change the shape of y to (n_samples, ), for example using ravel().\n",
      "  return f(*args, **kwargs)\n"
     ]
    },
    {
     "name": "stdout",
     "output_type": "stream",
     "text": [
      "*** Causal Estimate ***\n",
      "\n",
      "## Identified estimand\n",
      "Estimand type: nonparametric-ate\n",
      "\n",
      "### Estimand : 1\n",
      "Estimand name: backdoor\n",
      "Estimand expression:\n",
      "  d                                 \n",
      "─────(Expectation(y|W2,W4,W0,W3,W1))\n",
      "d[v₀]                               \n",
      "Estimand assumption 1, Unconfoundedness: If U→{v0} and U→y then P(y|v0,W2,W4,W0,W3,W1,U) = P(y|v0,W2,W4,W0,W3,W1)\n",
      "\n",
      "## Realized estimand\n",
      "b: y~v0+W2+W4+W0+W3+W1\n",
      "Target units: ate\n",
      "\n",
      "## Estimate\n",
      "Mean value: 13.930058104841576\n",
      "\n",
      "Causal Estimate is 13.930058104841576\n"
     ]
    }
   ],
   "source": [
    "causal_estimate_match = model.estimate_effect(\n",
    "    identified_estimand, method_name=\"backdoor.propensity_score_matching\"\n",
    ")\n",
    "print(causal_estimate_match)\n",
    "print(\"Causal Estimate is \" + str(causal_estimate_match.value))"
   ]
  },
  {
   "cell_type": "markdown",
   "metadata": {
    "colab_type": "text",
    "id": "zT2Ix6OQ_hST"
   },
   "source": [
    "### Method 4: Weighting\n",
    "We will be using (inverse) propensity scores to assign weights to units in the data."
   ]
  },
  {
   "cell_type": "code",
   "execution_count": 11,
   "metadata": {
    "colab": {},
    "colab_type": "code",
    "id": "2WCxvO6I_iq1"
   },
   "outputs": [
    {
     "name": "stderr",
     "output_type": "stream",
     "text": [
      "/tmp/Python/python-3.9.6/lib/python3.9/site-packages/sklearn/utils/validation.py:63: DataConversionWarning: A column-vector y was passed when a 1d array was expected. Please change the shape of y to (n_samples, ), for example using ravel().\n",
      "  return f(*args, **kwargs)\n"
     ]
    },
    {
     "name": "stdout",
     "output_type": "stream",
     "text": [
      "*** Causal Estimate ***\n",
      "\n",
      "## Identified estimand\n",
      "Estimand type: nonparametric-ate\n",
      "\n",
      "### Estimand : 1\n",
      "Estimand name: backdoor\n",
      "Estimand expression:\n",
      "  d                                 \n",
      "─────(Expectation(y|W2,W4,W0,W3,W1))\n",
      "d[v₀]                               \n",
      "Estimand assumption 1, Unconfoundedness: If U→{v0} and U→y then P(y|v0,W2,W4,W0,W3,W1,U) = P(y|v0,W2,W4,W0,W3,W1)\n",
      "\n",
      "## Realized estimand\n",
      "b: y~v0+W2+W4+W0+W3+W1\n",
      "Target units: ate\n",
      "\n",
      "## Estimate\n",
      "Mean value: 15.700123213452287\n",
      "\n",
      "Causal Estimate is 15.700123213452287\n"
     ]
    }
   ],
   "source": [
    "causal_estimate_ipw = model.estimate_effect(\n",
    "    identified_estimand, method_name=\"backdoor.propensity_score_weighting\"\n",
    ")\n",
    "print(causal_estimate_ipw)\n",
    "print(\"Causal Estimate is \" + str(causal_estimate_ipw.value))"
   ]
  }
 ],
 "metadata": {
  "colab": {
   "collapsed_sections": [],
   "name": "_example2.ipynb",
   "provenance": [],
   "version": "0.3.2"
  },
  "kernelspec": {
   "display_name": "Python 3 (ipykernel)",
   "language": "python",
   "name": "python3"
  },
  "language_info": {
   "codemirror_mode": {
    "name": "ipython",
    "version": 3
   },
   "file_extension": ".py",
   "mimetype": "text/x-python",
   "name": "python",
   "nbconvert_exporter": "python",
   "pygments_lexer": "ipython3",
   "version": "3.9.6"
  }
 },
 "nbformat": 4,
 "nbformat_minor": 4
}
