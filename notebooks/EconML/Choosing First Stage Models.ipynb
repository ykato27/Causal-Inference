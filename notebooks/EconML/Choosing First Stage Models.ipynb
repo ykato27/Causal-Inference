{
 "cells": [
  {
   "cell_type": "markdown",
   "metadata": {},
   "source": [
    "<table border=\"0\">\n",
    "    <tr>\n",
    "        <td>\n",
    "            <img src=\"https://ictd2016.files.wordpress.com/2016/04/microsoft-research-logo-copy.jpg\" style=\"width 30px;\" />\n",
    "             </td>\n",
    "        <td>\n",
    "            <img src=\"https://www.microsoft.com/en-us/research/wp-content/uploads/2016/12/MSR-ALICE-HeaderGraphic-1920x720_1-800x550.jpg\" style=\"width 100px;\"/></td>\n",
    "        </tr>\n",
    "</table>"
   ]
  },
  {
   "cell_type": "markdown",
   "metadata": {},
   "source": [
    "# Choosing First Stage Models in EconML Estimators"
   ]
  },
  {
   "cell_type": "markdown",
   "metadata": {},
   "source": [
    "Choosing first stage models for the various EconML estimators can seem like a daunting task. However, there are several ways to choose suitable first stage models, depending on the problem you are trying to solve. In this notebook, we go through the various types of crossvalidation and hyperparameter tuning used to select the first stage models.   "
   ]
  },
  {
   "cell_type": "code",
   "execution_count": 1,
   "metadata": {},
   "outputs": [],
   "source": [
    "%load_ext lab_black"
   ]
  },
  {
   "cell_type": "code",
   "execution_count": 2,
   "metadata": {},
   "outputs": [],
   "source": [
    "# Imports\n",
    "import numpy as np\n",
    "import scipy.special\n",
    "from econml.dml import LinearDML\n",
    "from sklearn.linear_model import Lasso, LassoCV\n",
    "from sklearn.ensemble import GradientBoostingRegressor\n",
    "from sklearn.model_selection import GridSearchCV\n",
    "from sklearn.preprocessing import PolynomialFeatures\n",
    "import matplotlib.pyplot as plt\n",
    "import matplotlib\n",
    "\n",
    "%matplotlib inline"
   ]
  },
  {
   "cell_type": "code",
   "execution_count": 3,
   "metadata": {},
   "outputs": [],
   "source": [
    "# Data generation with quadratic treatment effect\n",
    "np.random.seed(123)\n",
    "n = 2000\n",
    "p = 10\n",
    "W = np.random.uniform(size=(n, p))\n",
    "X = np.random.uniform(size=(n, 1))\n",
    "true_effect = lambda x: x[:, 0] ** 2\n",
    "T = W[:, 0] + W[:, 1] ** 2 + np.random.uniform(-1, 1, size=n)\n",
    "Y = (\n",
    "    true_effect(X) * T\n",
    "    + W @ np.random.uniform(size=p)\n",
    "    + np.random.uniform(-1, 1, size=n)\n",
    ")\n",
    "X_test = np.arange(0, 1, 0.02).reshape(-1, 1)\n",
    "test_effect = true_effect(X_test)"
   ]
  },
  {
   "cell_type": "markdown",
   "metadata": {},
   "source": [
    "## 1. Using cross-validated estimators as first stage models\n",
    "\n",
    "The most straightforward way to choose a first stage model is to not choose one at all and instead let the EconML estimators do the work for you. To achieve this, you can pass in a cross-validated estimator such as `sklearn`'s `LassoCV` or `GridSearchCV` as the first stage models. The EconML estimator will internally run the cross-validation step and select the best models for the first stage. \n",
    "\n",
    "**Advantages:** \n",
    "\n",
    "* Requires little to no boilerplate code, you can just pass in a CV estimator along with a hyperparameter grid.\n",
    "\n",
    "**Disadvantages:**\n",
    "\n",
    " * The EconML estimator will take longer to run due to an internal cross-validation step for computing the residuals. Further, the CV estimator will be trained on $n_{samples}/\\text{cv}$ data points which might not be suitable for small datasets. \n",
    " * Requires special CV estimator to choose among many classes of estimators (e.g. Lasso and GradientBoostingForest, see section 2.2. for workaround)"
   ]
  },
  {
   "cell_type": "code",
   "execution_count": 4,
   "metadata": {},
   "outputs": [],
   "source": [
    "model_y = LassoCV(max_iter=10000)\n",
    "model_t = LassoCV(max_iter=10000)\n",
    "est = LinearDML(\n",
    "    model_y=model_y,\n",
    "    model_t=model_t,\n",
    "    featurizer=PolynomialFeatures(degree=2),\n",
    "    fit_cate_intercept=False,\n",
    ")\n",
    "est.fit(Y, T, X=X, W=W)\n",
    "te_pred_lasso = est.effect(X_test)"
   ]
  },
  {
   "cell_type": "code",
   "execution_count": 5,
   "metadata": {},
   "outputs": [
    {
     "name": "stderr",
     "output_type": "stream",
     "text": [
      "Co-variance matrix is underdetermined. Inference will be invalid!\n"
     ]
    }
   ],
   "source": [
    "first_stage = lambda: GridSearchCV(\n",
    "    estimator=GradientBoostingRegressor(),\n",
    "    param_grid={\"max_depth\": [3, 5, None], \"n_estimators\": (50, 100, 200)},\n",
    "    cv=2,\n",
    "    n_jobs=-1,\n",
    ")\n",
    "est = LinearDML(\n",
    "    model_y=first_stage(),\n",
    "    model_t=first_stage(),\n",
    "    featurizer=PolynomialFeatures(degree=2),\n",
    "    linear_first_stages=False,\n",
    ")\n",
    "est.fit(Y, T, X=X, W=W)\n",
    "te_pred_gbr = est.effect(X_test)"
   ]
  },
  {
   "cell_type": "code",
   "execution_count": 6,
   "metadata": {},
   "outputs": [
    {
     "data": {
      "image/png": "[encoded data removed]",
      "text/plain": [
       "<Figure size 432x288 with 1 Axes>"
      ]
     },
     "metadata": {
      "needs_background": "light"
     },
     "output_type": "display_data"
    }
   ],
   "source": [
    "plt.plot(X_test, test_effect, \"--\", label=\"Truth\")\n",
    "plt.plot(X_test, te_pred_lasso, label=\"DML with LassoCV\")\n",
    "plt.plot(X_test, te_pred_gbr, label=\"DML with GradientBoostingRegressor\")\n",
    "plt.legend()\n",
    "plt.xlabel(\"X\")\n",
    "plt.ylabel(\"Effect\")\n",
    "plt.show()"
   ]
  },
  {
   "cell_type": "markdown",
   "metadata": {},
   "source": [
    "## 2. Performing first stage model selection outside of EconML\n",
    "\n",
    "An alternative to passing in CV models to EconML is to perform model selection outside of the EconML estimators and then pass in the pre-selected models to EconML. This is the preferred method for first stage model selection due to its statistical and computational advantages.\n",
    "\n",
    "**Advantages:** \n",
    "\n",
    "* Faster runtimes of the EconML estimators and more flexible selection of first stage models.\n",
    "\n",
    "* As long as $\\log(\\text{#hyperparameters}) << O(n_{samples})$, this approach maintains statisical validity of the resulting inference results.\n",
    "\n",
    "**Disadvantages:** Requires more boilerplate code and manual training, scoring and selection of the first stage models."
   ]
  },
  {
   "cell_type": "markdown",
   "metadata": {},
   "source": [
    "### 2.1. Tuning hyperparameters within the same estimator class\n",
    "\n",
    "Here we select the best estimator within a given class (e.g. Lasso or GradientBoostingForest). This is done by conventional hyperparameter tuning. "
   ]
  },
  {
   "cell_type": "code",
   "execution_count": 7,
   "metadata": {},
   "outputs": [],
   "source": [
    "XW = np.hstack([X, W])\n",
    "model_y_alpha = LassoCV(max_iter=10000).fit(XW, Y).alpha_\n",
    "model_t_alpha = LassoCV(max_iter=10000).fit(XW, T).alpha_\n",
    "model_y = Lasso(alpha=model_y_alpha, max_iter=10000)\n",
    "model_t = Lasso(alpha=model_t_alpha, max_iter=10000)\n",
    "est = LinearDML(\n",
    "    model_y=model_y,\n",
    "    model_t=model_t,\n",
    "    featurizer=PolynomialFeatures(degree=2),\n",
    "    fit_cate_intercept=False,\n",
    ")\n",
    "est.fit(Y, T, X=X, W=W)\n",
    "te_pred_lasso = est.effect(X_test)"
   ]
  },
  {
   "cell_type": "code",
   "execution_count": 8,
   "metadata": {},
   "outputs": [
    {
     "name": "stderr",
     "output_type": "stream",
     "text": [
      "Co-variance matrix is underdetermined. Inference will be invalid!\n"
     ]
    }
   ],
   "source": [
    "model_y = first_stage().fit(XW, Y).best_estimator_\n",
    "model_t = first_stage().fit(XW, T).best_estimator_\n",
    "est = LinearDML(\n",
    "    model_y=model_y,\n",
    "    model_t=model_t,\n",
    "    featurizer=PolynomialFeatures(degree=2),\n",
    "    linear_first_stages=False,\n",
    ")\n",
    "est.fit(Y, T, X=X, W=W)\n",
    "te_pred_gbr = est.effect(X_test)"
   ]
  },
  {
   "cell_type": "code",
   "execution_count": 9,
   "metadata": {},
   "outputs": [
    {
     "data": {
      "image/png": "[encoded data removed]",
      "text/plain": [
       "<Figure size 432x288 with 1 Axes>"
      ]
     },
     "metadata": {
      "needs_background": "light"
     },
     "output_type": "display_data"
    }
   ],
   "source": [
    "plt.plot(X_test, test_effect, \"--\", label=\"Truth\")\n",
    "plt.plot(X_test, te_pred_lasso, label=\"DML with LassoCV\")\n",
    "plt.plot(X_test, te_pred_gbr, label=\"DML with GradientBoostingRegressor\")\n",
    "plt.legend()\n",
    "plt.xlabel(\"X\")\n",
    "plt.ylabel(\"Effect\")\n",
    "plt.show()"
   ]
  },
  {
   "cell_type": "markdown",
   "metadata": {},
   "source": [
    "### 2.2. Choosing amongst different classes of estimators\n",
    "\n",
    "Here we select among different classes of estimators. This is essentially a two-step process where we first do in-class parameter tuning and then we choose among the optimized models. EconML offers the `GridSearchCVList` utility class to perform this type of model selection."
   ]
  },
  {
   "cell_type": "code",
   "execution_count": 10,
   "metadata": {},
   "outputs": [],
   "source": [
    "from econml.sklearn_extensions.model_selection import GridSearchCVList"
   ]
  },
  {
   "cell_type": "code",
   "execution_count": 11,
   "metadata": {},
   "outputs": [],
   "source": [
    "first_stage = lambda: GridSearchCVList(\n",
    "    [Lasso(max_iter=10000), GradientBoostingRegressor()],\n",
    "    param_grid_list=[\n",
    "        {\"alpha\": [0.001, 0.01, 0.1, 1, 10]},\n",
    "        {\"max_depth\": [3, 5, None], \"n_estimators\": [50, 100, 200]},\n",
    "    ],\n",
    "    cv=2,\n",
    ")"
   ]
  },
  {
   "cell_type": "code",
   "execution_count": 12,
   "metadata": {},
   "outputs": [
    {
     "name": "stderr",
     "output_type": "stream",
     "text": [
      "Co-variance matrix is underdetermined. Inference will be invalid!\n"
     ]
    }
   ],
   "source": [
    "model_y = first_stage().fit(XW, Y).best_estimator_\n",
    "model_t = first_stage().fit(XW, T).best_estimator_\n",
    "est = LinearDML(\n",
    "    model_y=model_y, model_t=model_t, featurizer=PolynomialFeatures(degree=2)\n",
    ")\n",
    "est.fit(Y, T, X=X, W=W)\n",
    "te_pred = est.effect(X_test)"
   ]
  },
  {
   "cell_type": "code",
   "execution_count": 13,
   "metadata": {},
   "outputs": [
    {
     "data": {
      "image/png": "[encoded data removed]",
      "text/plain": [
       "<Figure size 432x288 with 1 Axes>"
      ]
     },
     "metadata": {
      "needs_background": "light"
     },
     "output_type": "display_data"
    }
   ],
   "source": [
    "plt.plot(X_test, test_effect, \"--\", label=\"Truth\")\n",
    "plt.plot(X_test, te_pred, label=\"DML with GridSearchCVList\")\n",
    "plt.legend()\n",
    "plt.xlabel(\"X\")\n",
    "plt.ylabel(\"Effect\")\n",
    "plt.show()"
   ]
  }
 ],
 "metadata": {
  "kernelspec": {
   "display_name": "Python 3 (ipykernel)",
   "language": "python",
   "name": "python3"
  },
  "language_info": {
   "codemirror_mode": {
    "name": "ipython",
    "version": 3
   },
   "file_extension": ".py",
   "mimetype": "text/x-python",
   "name": "python",
   "nbconvert_exporter": "python",
   "pygments_lexer": "ipython3",
   "version": "3.9.6"
  }
 },
 "nbformat": 4,
 "nbformat_minor": 4
}
