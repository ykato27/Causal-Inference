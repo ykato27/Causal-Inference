{
 "cells": [
  {
   "cell_type": "markdown",
   "metadata": {},
   "source": [
    "<table border=\"0\">\n",
    "    <tr>\n",
    "        <td>\n",
    "            <img src=\"https://ictd2016.files.wordpress.com/2016/04/microsoft-research-logo-copy.jpg\" style=\"width 30px;\" />\n",
    "             </td>\n",
    "        <td>\n",
    "            <img src=\"https://www.microsoft.com/en-us/research/wp-content/uploads/2016/12/MSR-ALICE-HeaderGraphic-1920x720_1-800x550.jpg\" style=\"width 100px;\"/></td>\n",
    "        </tr>\n",
    "</table>"
   ]
  },
  {
   "cell_type": "markdown",
   "metadata": {},
   "source": [
    "# Metalearners Estimators: Use Cases and Examples"
   ]
  },
  {
   "cell_type": "markdown",
   "metadata": {},
   "source": [
    "Metalearners are binary treatment CATE estimators that model the response surfaces, $Y(0)$ and $Y(1)$, separately. To account for a heterogeneous propensity of treatment $P(T\\mid X)$, the two modeled responses $E(Y(0)\\mid X)$ and $E(Y(1)\\mid X)$ are weighted in different ways in the final CATE estimation. For a detailed overview of these methods, see [this paper](https://arxiv.org/abs/1706.03461). \n",
    "\n",
    "The EconML SDK implements the following `metalearners`:\n",
    "\n",
    "* T-Learner\n",
    "\n",
    "* S-Learner\n",
    "\n",
    "* X-Learner\n",
    "\n",
    "* DomainAdaptation-Learner\n",
    "\n",
    "* DoublyRobust-Learner\n",
    "\n",
    "In this notebook, we compare the performance of these four CATE estimatiors on synthetic data and semi-synthetic data.\n",
    "\n",
    "**Notebook contents:**\n",
    "\n",
    "1. Example usage with synthetic data\n",
    "\n",
    "2. Example usage with semi-synthetic data"
   ]
  },
  {
   "cell_type": "code",
   "execution_count": 1,
   "metadata": {},
   "outputs": [],
   "source": [
    "%load_ext lab_black"
   ]
  },
  {
   "cell_type": "code",
   "execution_count": 2,
   "metadata": {},
   "outputs": [
    {
     "name": "stderr",
     "output_type": "stream",
     "text": [
      "2021-11-12 14:37:54.117026: W tensorflow/stream_executor/platform/default/dso_loader.cc:64] Could not load dynamic library 'libcudart.so.11.0'; dlerror: libcudart.so.11.0: cannot open shared object file: No such file or directory\n",
      "2021-11-12 14:37:54.117197: I tensorflow/stream_executor/cuda/cudart_stub.cc:29] Ignore above cudart dlerror if you do not have a GPU set up on your machine.\n"
     ]
    }
   ],
   "source": [
    "# Main imports\n",
    "from econml.metalearners import TLearner, SLearner, XLearner, DomainAdaptationLearner\n",
    "\n",
    "# Helper imports\n",
    "import numpy as np\n",
    "from numpy.random import binomial, multivariate_normal, normal, uniform\n",
    "from sklearn.linear_model import LinearRegression\n",
    "from sklearn.ensemble import (\n",
    "    RandomForestRegressor,\n",
    "    RandomForestClassifier,\n",
    "    GradientBoostingRegressor,\n",
    ")\n",
    "import matplotlib.pyplot as plt\n",
    "\n",
    "%matplotlib inline"
   ]
  },
  {
   "cell_type": "markdown",
   "metadata": {},
   "source": [
    "## 1. Example Usage with Synthetic Data"
   ]
  },
  {
   "cell_type": "markdown",
   "metadata": {},
   "source": [
    "### 1.1. DGP"
   ]
  },
  {
   "cell_type": "markdown",
   "metadata": {},
   "source": [
    "We use the data generating process (DGP) from [Kunzel et al.](https://arxiv.org/abs/1706.03461). The DGP is described by the following equations:\n",
    "\n",
    "$\n",
    "Y = \\mu_1(x) \\cdot T + \\mu_0(x) \\cdot (1-T) + \\epsilon \\\\\n",
    "T \\sim Bern(e(x)), \\; e(x) = P(T=1|X=x)\n",
    "$\n",
    "\n",
    "where \n",
    "\n",
    "$\n",
    "\\mu_0(x) = x^T\\beta,\\; with \\;\\beta\\sim Unif([-3, 3]^d),\\; X_i \\sim N(0, \\Sigma)\\\\\n",
    "\\mu_1(x) = \\mu_0(x) + 8 \\mathbb{I}(x_2>0.1) => CATE(x) = 8 \\mathbb{I}(x_2>0.1)\n",
    "$\n"
   ]
  },
  {
   "cell_type": "code",
   "execution_count": 3,
   "metadata": {},
   "outputs": [],
   "source": [
    "# Define DGP\n",
    "def generate_data(n, d, controls_outcome, treatment_effect, propensity):\n",
    "    \"\"\"Generates population data for given untreated_outcome, treatment_effect and propensity functions.\n",
    "\n",
    "    Parameters\n",
    "    ----------\n",
    "        n (int): population size\n",
    "        d (int): number of covariates\n",
    "        controls_outcome (func): untreated outcome conditional on covariates\n",
    "        treatment_effect (func): treatment effect conditional on covariates\n",
    "        propensity (func): probability of treatment conditional on covariates\n",
    "    \"\"\"\n",
    "    # Generate covariates\n",
    "    X = multivariate_normal(np.zeros(d), np.diag(np.ones(d)), n)\n",
    "    # Generate treatment\n",
    "    T = np.apply_along_axis(lambda x: binomial(1, propensity(x), 1)[0], 1, X)\n",
    "    # Calculate outcome\n",
    "    Y0 = np.apply_along_axis(lambda x: controls_outcome(x), 1, X)\n",
    "    treat_effect = np.apply_along_axis(lambda x: treatment_effect(x), 1, X)\n",
    "    Y = Y0 + treat_effect * T\n",
    "    return (Y, T, X)"
   ]
  },
  {
   "cell_type": "code",
   "execution_count": 4,
   "metadata": {},
   "outputs": [],
   "source": [
    "# controls outcome, treatment effect, propensity definitions\n",
    "def generate_controls_outcome(d):\n",
    "    beta = uniform(-3, 3, d)\n",
    "    return lambda x: np.dot(x, beta) + normal(0, 1)\n",
    "\n",
    "\n",
    "treatment_effect = lambda x: (1 if x[1] > 0.1 else 0) * 8\n",
    "propensity = lambda x: (0.8 if (x[2] > -0.5 and x[2] < 0.5) else 0.2)"
   ]
  },
  {
   "cell_type": "code",
   "execution_count": 5,
   "metadata": {},
   "outputs": [],
   "source": [
    "# DGP constants and test data\n",
    "d = 5\n",
    "n = 1000\n",
    "n_test = 250\n",
    "controls_outcome = generate_controls_outcome(d)\n",
    "X_test = multivariate_normal(np.zeros(d), np.diag(np.ones(d)), n_test)\n",
    "delta = 6 / n_test\n",
    "X_test[:, 1] = np.arange(-3, 3, delta)"
   ]
  },
  {
   "cell_type": "code",
   "execution_count": 6,
   "metadata": {},
   "outputs": [],
   "source": [
    "Y, T, X = generate_data(n, d, controls_outcome, treatment_effect, propensity)"
   ]
  },
  {
   "cell_type": "markdown",
   "metadata": {},
   "source": [
    "### 1.2. Train Estimators"
   ]
  },
  {
   "cell_type": "code",
   "execution_count": 7,
   "metadata": {},
   "outputs": [],
   "source": [
    "# Instantiate T learner\n",
    "models = GradientBoostingRegressor(\n",
    "    n_estimators=100, max_depth=6, min_samples_leaf=int(n / 100)\n",
    ")\n",
    "T_learner = TLearner(models=models)\n",
    "# Train T_learner\n",
    "T_learner.fit(Y, T, X=X)\n",
    "# Estimate treatment effects on test data\n",
    "T_te = T_learner.effect(X_test)"
   ]
  },
  {
   "cell_type": "code",
   "execution_count": 8,
   "metadata": {},
   "outputs": [],
   "source": [
    "# Instantiate S learner\n",
    "overall_model = GradientBoostingRegressor(\n",
    "    n_estimators=100, max_depth=6, min_samples_leaf=int(n / 100)\n",
    ")\n",
    "S_learner = SLearner(overall_model=overall_model)\n",
    "# Train S_learner\n",
    "S_learner.fit(Y, T, X=X)\n",
    "# Estimate treatment effects on test data\n",
    "S_te = S_learner.effect(X_test)"
   ]
  },
  {
   "cell_type": "code",
   "execution_count": 9,
   "metadata": {},
   "outputs": [],
   "source": [
    "# Instantiate X learner\n",
    "models = GradientBoostingRegressor(\n",
    "    n_estimators=100, max_depth=6, min_samples_leaf=int(n / 100)\n",
    ")\n",
    "propensity_model = RandomForestClassifier(\n",
    "    n_estimators=100, max_depth=6, min_samples_leaf=int(n / 100)\n",
    ")\n",
    "X_learner = XLearner(models=models, propensity_model=propensity_model)\n",
    "# Train X_learner\n",
    "X_learner.fit(Y, T, X=X)\n",
    "# Estimate treatment effects on test data\n",
    "X_te = X_learner.effect(X_test)"
   ]
  },
  {
   "cell_type": "code",
   "execution_count": 10,
   "metadata": {},
   "outputs": [],
   "source": [
    "# Instantiate Domain Adaptation learner\n",
    "models = GradientBoostingRegressor(\n",
    "    n_estimators=100, max_depth=6, min_samples_leaf=int(n / 100)\n",
    ")\n",
    "final_models = GradientBoostingRegressor(\n",
    "    n_estimators=100, max_depth=6, min_samples_leaf=int(n / 100)\n",
    ")\n",
    "propensity_model = RandomForestClassifier(\n",
    "    n_estimators=100, max_depth=6, min_samples_leaf=int(n / 100)\n",
    ")\n",
    "DA_learner = DomainAdaptationLearner(\n",
    "    models=models, final_models=final_models, propensity_model=propensity_model\n",
    ")\n",
    "# Train DA_learner\n",
    "DA_learner.fit(Y, T, X=X)\n",
    "# Estimate treatment effects on test data\n",
    "DA_te = DA_learner.effect(X_test)"
   ]
  },
  {
   "cell_type": "code",
   "execution_count": 11,
   "metadata": {},
   "outputs": [],
   "source": [
    "# Instantiate Doubly Robust Learner\n",
    "from econml.dr import DRLearner\n",
    "\n",
    "outcome_model = GradientBoostingRegressor(\n",
    "    n_estimators=100, max_depth=6, min_samples_leaf=int(n / 100)\n",
    ")\n",
    "pseudo_treatment_model = GradientBoostingRegressor(\n",
    "    n_estimators=100, max_depth=6, min_samples_leaf=int(n / 100)\n",
    ")\n",
    "propensity_model = RandomForestClassifier(\n",
    "    n_estimators=100, max_depth=6, min_samples_leaf=int(n / 100)\n",
    ")\n",
    "\n",
    "DR_learner = DRLearner(\n",
    "    model_regression=outcome_model,\n",
    "    model_propensity=propensity_model,\n",
    "    model_final=pseudo_treatment_model,\n",
    "    cv=5,\n",
    ")\n",
    "# Train DR_learner\n",
    "DR_learner.fit(Y, T, X=X)\n",
    "# Estimate treatment effects on test data\n",
    "DR_te = DR_learner.effect(X_test)"
   ]
  },
  {
   "cell_type": "markdown",
   "metadata": {},
   "source": [
    "### 1.3. Visual Comparisons"
   ]
  },
  {
   "cell_type": "code",
   "execution_count": 12,
   "metadata": {},
   "outputs": [
    {
     "data": {
      "image/png": "[encoded data removed]",
      "text/plain": [
       "<Figure size 504x360 with 1 Axes>"
      ]
     },
     "metadata": {
      "needs_background": "light"
     },
     "output_type": "display_data"
    }
   ],
   "source": [
    "### Comparison plot of the different learners\n",
    "plt.figure(figsize=(7, 5))\n",
    "plt.plot(\n",
    "    X_test[:, 1],\n",
    "    np.apply_along_axis(treatment_effect, 1, X_test),\n",
    "    color=\"black\",\n",
    "    ls=\"--\",\n",
    "    label=\"Baseline\",\n",
    ")\n",
    "plt.scatter(X_test[:, 1], T_te, label=\"T-learner\")\n",
    "plt.scatter(X_test[:, 1], S_te, label=\"S-learner\")\n",
    "plt.scatter(X_test[:, 1], DA_te, label=\"DA-learner\")\n",
    "plt.scatter(X_test[:, 1], X_te, label=\"X-learner\")\n",
    "plt.scatter(X_test[:, 1], DR_te, label=\"DR-learner\")\n",
    "plt.xlabel(\"$x_1$\")\n",
    "plt.ylabel(\"Treatment Effect\")\n",
    "plt.legend()\n",
    "plt.show()"
   ]
  },
  {
   "cell_type": "code",
   "execution_count": 13,
   "metadata": {},
   "outputs": [
    {
     "data": {
      "image/png": "[encoded data removed]",
      "text/plain": [
       "<Figure size 432x288 with 1 Axes>"
      ]
     },
     "metadata": {
      "needs_background": "light"
     },
     "output_type": "display_data"
    }
   ],
   "source": [
    "# Visualization of bias distribution\n",
    "expected_te = np.apply_along_axis(treatment_effect, 1, X_test)\n",
    "plt.violinplot(\n",
    "    [\n",
    "        np.abs(T_te - expected_te),\n",
    "        np.abs(S_te - expected_te),\n",
    "        np.abs(DA_te - expected_te),\n",
    "        np.abs(X_te - expected_te),\n",
    "        np.abs(DR_te - expected_te),\n",
    "    ],\n",
    "    showmeans=True,\n",
    ")\n",
    "plt.ylabel(\"Bias distribution\")\n",
    "plt.xticks(\n",
    "    [1, 2, 3, 4, 5], [\"T-learner\", \"S-learner\", \"DA-learner\", \"X-learner\", \"DR-learner\"]\n",
    ")\n",
    "plt.show()"
   ]
  },
  {
   "cell_type": "markdown",
   "metadata": {},
   "source": [
    "## 2. Example Usage with Semi-synthetic Data"
   ]
  },
  {
   "cell_type": "markdown",
   "metadata": {},
   "source": [
    "### 2.1. DGP\n",
    "\n",
    "We use the Response Surface B from [Hill (2011)](https://www.tandfonline.com/doi/pdf/10.1198/jcgs.2010.08162) to generate sythetic outcome surfaces from real-world covariates and treatment assignments (Infant Health Development Program data). Since the original data was part of a randomized trial, a subset of the treated infants (those with non-white mothers) has been removed from the data in order to mimic the observational data setting. For more details, see [Hill (2011)](https://www.tandfonline.com/doi/pdf/10.1198/jcgs.2010.08162).\n",
    "\n",
    "\n",
    "The DGP is described by the following equations:\n",
    "\n",
    "$\n",
    "Y(0) = e^{(X+W)\\beta} + \\epsilon_0, \\;\\epsilon_0 \\sim N(0, 1)\\\\\n",
    "Y(1) = X\\beta - \\omega + \\epsilon_1, \\;\\epsilon_1 \\sim N(0, 1)\\\\\n",
    "$\n",
    "\n",
    "where $X$ is a covariate matrix, $W$ is a constant matrix with entries equal to $0.5$ and $w$ is a constant calculated such that the CATT equals $4$."
   ]
  },
  {
   "cell_type": "code",
   "execution_count": 14,
   "metadata": {},
   "outputs": [],
   "source": [
    "from econml.data.dgps import ihdp_surface_B"
   ]
  },
  {
   "cell_type": "code",
   "execution_count": 15,
   "metadata": {},
   "outputs": [],
   "source": [
    "Y, T, X, expected_te = ihdp_surface_B()"
   ]
  },
  {
   "cell_type": "markdown",
   "metadata": {},
   "source": [
    "### 2.2. Train Estimators"
   ]
  },
  {
   "cell_type": "code",
   "execution_count": 16,
   "metadata": {},
   "outputs": [],
   "source": [
    "# T-learner\n",
    "T_learner.fit(Y, T, X=X)\n",
    "T_te = T_learner.effect(X)"
   ]
  },
  {
   "cell_type": "code",
   "execution_count": 17,
   "metadata": {},
   "outputs": [],
   "source": [
    "# S-learner\n",
    "S_learner.fit(Y, T, X=X)\n",
    "S_te = S_learner.effect(X)"
   ]
  },
  {
   "cell_type": "code",
   "execution_count": 18,
   "metadata": {},
   "outputs": [],
   "source": [
    "# X-learner\n",
    "X_learner.fit(Y, T, X=X)\n",
    "X_te = X_learner.effect(X)"
   ]
  },
  {
   "cell_type": "code",
   "execution_count": 19,
   "metadata": {},
   "outputs": [],
   "source": [
    "# Domain adaptation learner\n",
    "DA_learner.fit(Y, T, X=X)\n",
    "DA_te = DA_learner.effect(X)"
   ]
  },
  {
   "cell_type": "code",
   "execution_count": 20,
   "metadata": {},
   "outputs": [],
   "source": [
    "# Doubly robust learner\n",
    "DR_learner.fit(Y, T, X=X)\n",
    "DR_te = DR_learner.effect(X)"
   ]
  },
  {
   "cell_type": "markdown",
   "metadata": {},
   "source": [
    "### 2.3. Visual Comparisons"
   ]
  },
  {
   "cell_type": "code",
   "execution_count": 21,
   "metadata": {},
   "outputs": [
    {
     "data": {
      "image/png": "[encoded data removed]",
      "text/plain": [
       "<Figure size 432x288 with 1 Axes>"
      ]
     },
     "metadata": {
      "needs_background": "light"
     },
     "output_type": "display_data"
    }
   ],
   "source": [
    "# Visualization of bias distribution\n",
    "plt.violinplot(\n",
    "    [\n",
    "        np.abs(T_te - expected_te),\n",
    "        np.abs(S_te - expected_te),\n",
    "        np.abs(DA_te - expected_te),\n",
    "        np.abs(X_te - expected_te),\n",
    "        np.abs(DR_te - expected_te),\n",
    "    ],\n",
    "    showmeans=True,\n",
    ")\n",
    "plt.ylabel(\"Bias distribution\")\n",
    "plt.xticks(\n",
    "    [1, 2, 3, 4, 5], [\"T-learner\", \"S-learner\", \"DA-learner\", \"X-learner\", \"DR-learner\"]\n",
    ")\n",
    "plt.show()"
   ]
  }
 ],
 "metadata": {
  "kernelspec": {
   "display_name": "Python 3 (ipykernel)",
   "language": "python",
   "name": "python3"
  },
  "language_info": {
   "codemirror_mode": {
    "name": "ipython",
    "version": 3
   },
   "file_extension": ".py",
   "mimetype": "text/x-python",
   "name": "python",
   "nbconvert_exporter": "python",
   "pygments_lexer": "ipython3",
   "version": "3.9.6"
  }
 },
 "nbformat": 4,
 "nbformat_minor": 4
}
